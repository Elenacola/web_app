{
  "nbformat": 4,
  "nbformat_minor": 0,
  "metadata": {
    "colab": {
      "provenance": [],
      "authorship_tag": "ABX9TyO9Je6M2fwC3kSFYnbTlKKw",
      "include_colab_link": true
    },
    "kernelspec": {
      "name": "python3",
      "display_name": "Python 3"
    },
    "language_info": {
      "name": "python"
    }
  },
  "cells": [
    {
      "cell_type": "markdown",
      "metadata": {
        "id": "view-in-github",
        "colab_type": "text"
      },
      "source": [
        "<a href=\"https://colab.research.google.com/github/Elenacola/web_app/blob/dash/untitled3.ipynb\" target=\"_parent\"><img src=\"https://colab.research.google.com/assets/colab-badge.svg\" alt=\"Open In Colab\"/></a>"
      ]
    },
    {
      "cell_type": "code",
      "source": [
        "!pip install dash==0.31.1  # The core dash backend\n",
        "!pip install dash-html-components==0.13.2  # HTML components\n",
        "!pip install dash-core-components==0.39.0  # Supercharged components\n",
        "!pip install dash-table==3.1.7  # Interactive DataTable component (new!)"
      ],
      "metadata": {
        "id": "I17HILDQzYdk"
      },
      "execution_count": null,
      "outputs": []
    },
    {
      "cell_type": "code",
      "source": [
        "import dash\n",
        "import dash_core_components as dcc\n",
        "import dash_html_components as html\n",
        "import pandas as pd\n",
        "import plotly.express as px\n",
        "from dash.dependencies import Input, Output"
      ],
      "metadata": {
        "id": "7wjdGMa1zhDy"
      },
      "execution_count": null,
      "outputs": []
    },
    {
      "cell_type": "code",
      "source": [
        "html.Div([\n",
        "    html.H1('Hello Dash'),\n",
        "    html.Div([\n",
        "        html.P('Dash converts Python classes into HTML'),\n",
        "        html.P(\"This conversion happens behind the scenes by Dash's JavaScript front-end\")\n",
        "    ])\n",
        "])"
      ],
      "metadata": {
        "colab": {
          "base_uri": "https://localhost:8080/"
        },
        "id": "6Da4VGGL0SPs",
        "outputId": "5baa292c-2c31-4192-9453-e53e5953ef87"
      },
      "execution_count": null,
      "outputs": [
        {
          "output_type": "execute_result",
          "data": {
            "text/plain": [
              "Div([H1('Hello Dash'), Div([P('Dash converts Python classes into HTML'), P(\"This conversion happens behind the scenes by Dash's JavaScript front-end\")])])"
            ]
          },
          "metadata": {},
          "execution_count": 7
        }
      ]
    }
  ]
}